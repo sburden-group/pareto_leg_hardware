{
 "cells": [
  {
   "cell_type": "code",
   "execution_count": 145,
   "metadata": {},
   "outputs": [],
   "source": [
    "import pandas as pd\n",
    "import numpy as np\n",
    "import os\n",
    "import leg_controllers.hopper as hopper\n",
    "import leg_controllers.model as model\n",
    "from leg_controllers.designs import Params\n",
    "import yaml\n",
    "from scipy.linalg import expm\n",
    "\n",
    "data_dir = \"data/design1\" \n",
    "files = os.listdir(data_dir)\n",
    "experiments = []\n",
    "for fname in files:\n",
    "    trials = pd.read_excel(data_dir+'/'+fname,sheet_name=None)\n",
    "    experiments += [trials]\n",
    "params = None\n",
    "with open(\"../designs/design1.yaml\",\"r\") as f:\n",
    "    params = Params(*(yaml.load(f,yaml.Loader).values()))"
   ]
  },
  {
   "cell_type": "code",
   "execution_count": 172,
   "metadata": {},
   "outputs": [
    {
     "name": "stdout",
     "output_type": "stream",
     "text": [
      "f=7.5.xlsx\n"
     ]
    },
    {
     "name": "stderr",
     "output_type": "stream",
     "text": [
      "C:\\Users\\spear\\AppData\\Local\\Temp/ipykernel_27208/2601894751.py:24: FutureWarning: `rcond` parameter will change to the default of machine precision times ``max(M, N)`` where M and N are the input matrix dimensions.\n",
      "To use the future default and silence this warning we advise to pass `rcond=None`, to keep using the old, explicitly pass `rcond=-1`.\n",
      "  y0.append(np.linalg.lstsq(Phi,b)[0])\n",
      "C:\\Users\\spear\\anaconda3\\lib\\site-packages\\numpy\\lib\\function_base.py:380: RuntimeWarning: Mean of empty slice.\n",
      "  avg = a.mean(axis)\n",
      "C:\\Users\\spear\\anaconda3\\lib\\site-packages\\numpy\\core\\_methods.py:170: RuntimeWarning: invalid value encountered in double_scalars\n",
      "  ret = ret.dtype.type(ret / rcount)\n"
     ]
    },
    {
     "data": {
      "text/plain": [
       "{'whiskers': [<matplotlib.lines.Line2D at 0x217918a2190>,\n",
       "  <matplotlib.lines.Line2D at 0x217918a2460>],\n",
       " 'caps': [<matplotlib.lines.Line2D at 0x217918a2730>,\n",
       "  <matplotlib.lines.Line2D at 0x217918a2af0>],\n",
       " 'boxes': [<matplotlib.lines.Line2D at 0x21791a0bfa0>],\n",
       " 'medians': [<matplotlib.lines.Line2D at 0x217918a2e20>],\n",
       " 'fliers': [<matplotlib.lines.Line2D at 0x217918b1130>],\n",
       " 'means': []}"
      ]
     },
     "execution_count": 172,
     "metadata": {},
     "output_type": "execute_result"
    },
    {
     "data": {
      "image/png": "[encoded data removed]",
      "text/plain": [
       "<Figure size 432x288 with 1 Axes>"
      ]
     },
     "metadata": {
      "needs_background": "light"
     },
     "output_type": "display_data"
    }
   ],
   "source": [
    "# ok that worked pretty well, now we need to do it for all of the stance periods\n",
    "idx = 7\n",
    "print(files[idx])\n",
    "data = experiments[idx]\n",
    "stance_sheets = [ name for name in data.keys() if \"stance\" in name ]\n",
    "# throw out first 5\n",
    "stance_sheets = stance_sheets[5:-1]\n",
    "y0 = []\n",
    "for sheet in stance_sheets:\n",
    "    t = np.array(data[sheet].iloc[:,0])\n",
    "    dt = np.average(np.diff(t))\n",
    "    y = np.array(data[sheet][\"q0\"])-params.l1-params.l2-model.foot_offset\n",
    "\n",
    "    A = np.array([\n",
    "        [0.,1.,0.],\n",
    "        [-hopper.omega**2,0.,-model.g],\n",
    "        [0.,0.,0.]\n",
    "    ])\n",
    "\n",
    "    e1 = np.eye(3)\n",
    "    eAt = np.vstack([expm(A*(t[i]-t[0])) for i in range(len(t))])\n",
    "    Phi = eAt[0:-1:3,0:2]\n",
    "    b = y - eAt[0:-1:3,2]\n",
    "    y0.append(np.linalg.lstsq(Phi,b)[0])\n",
    "from matplotlib import pyplot as plt\n",
    "y0 = np.vstack(y0)\n",
    "E = .5*y0[:,1]**2+.5*hopper.omega**2 * y0[:,0]**2 + model.g*y0[:,0]\n",
    "E_avg = np.average(E)\n",
    "E_std = np.std(E)\n",
    "\n",
    "# filter outliers\n",
    "\n",
    "E = E[np.abs(E-E_avg)<2*E_std]"
   ]
  }
 ],
 "metadata": {
  "interpreter": {
   "hash": "c56699c255e5eeaef7e414239cae4c19d19006cff663467666b617a84b1ffc4d"
  },
  "kernelspec": {
   "display_name": "Python 3.9.7 ('base')",
   "language": "python",
   "name": "python3"
  },
  "language_info": {
   "codemirror_mode": {
    "name": "ipython",
    "version": 3
   },
   "file_extension": ".py",
   "mimetype": "text/x-python",
   "name": "python",
   "nbconvert_exporter": "python",
   "pygments_lexer": "ipython3",
   "version": "3.9.7"
  },
  "orig_nbformat": 4
 },
 "nbformat": 4,
 "nbformat_minor": 2
}
